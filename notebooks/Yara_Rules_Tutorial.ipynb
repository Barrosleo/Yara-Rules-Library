{
 "cells": [
  {
   "cell_type": "markdown",
   "metadata": {},
   "source": [
    "# Yara Rules Tutorial\n",
    "\n",
    "This notebook provides an introduction to creating and testing Yara rules."
   ]
  },
  {
   "cell_type": "code",
   "execution_count": null,
   "metadata": {},
   "outputs": [],
   "source": [
    "import yara\n",
    "\n",
    "# Define an example Yara rule\n",
    "rule_source = '''\n",
    "rule example_rule {\n",
    "    meta:\n",
    "        description = \"Example rule for testing purposes\"\n",
    "    strings:\n",
    "        $example = \"test\"\n",
    "    condition:\n",
    "        $example\n",
    "}\n",
    "'''\n",
    "\n",
    "# Compile the rule\n",
    "try:\n",
    "    rules = yara.compile(source=rule_source)\n",
    "    print('Yara rule compiled successfully.')\n",
    "except Exception as e:\n",
    "    print('Error compiling Yara rule:', e)"
   ]
  }
 ],
 "metadata": {
  "kernelspec": {
   "display_name": "Python 3",
   "language": "python",
   "name": "python3"
  },
  "language_info": {
   "name": "python",
   "version": "3.x"
  }
 },
 "nbformat": 4,
 "nbformat_minor": 2
}
